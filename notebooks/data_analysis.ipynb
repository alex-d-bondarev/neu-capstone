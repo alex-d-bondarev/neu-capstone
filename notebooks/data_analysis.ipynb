{
 "cells": [
  {
   "cell_type": "markdown",
   "id": "58438681",
   "metadata": {},
   "source": [
    "# Analyse data\n",
    "From https://github.com/alex-d-bondarev/neu-capstone"
   ]
  },
  {
   "cell_type": "markdown",
   "id": "a1d42061",
   "metadata": {},
   "source": [
    "## Data preparation"
   ]
  },
  {
   "cell_type": "markdown",
   "id": "09df3c41",
   "metadata": {},
   "source": [
    "### Load libraries\n",
    "Need to import libraries **only once** each time jupiter notebook is launched"
   ]
  },
  {
   "cell_type": "code",
   "execution_count": null,
   "id": "0238b9b3",
   "metadata": {},
   "outputs": [],
   "source": [
    "import pandas\n",
    "\n",
    "from ipyfilechooser import FileChooser\n",
    "\n",
    "import sys \n",
    "import os\n",
    "\n",
    "abs_path = os.path.abspath(os.path.join('..'))\n",
    "sys.path.insert(0, abs_path)\n",
    "\n",
    "from src.common_helpers import make_text_pandas_header_compatible\n",
    "from src.extended_pandas_series import ExtendedSeries\n",
    "from src.plot_helpers import plot_bar_chart, plot_1_10_hist_chart, plot_text_answer, plot_multichoice_with_other\n"
   ]
  },
  {
   "cell_type": "markdown",
   "id": "9f9f611b",
   "metadata": {},
   "source": [
    "### Read the file"
   ]
  },
  {
   "cell_type": "code",
   "execution_count": null,
   "id": "c3aef5e3",
   "metadata": {},
   "outputs": [],
   "source": [
    "# open excel file as pandas dataframe\n",
    "raw_data = FileChooser()\n",
    "display(raw_data)"
   ]
  },
  {
   "cell_type": "code",
   "execution_count": null,
   "id": "20891dc1",
   "metadata": {},
   "outputs": [],
   "source": [
    "# open excel file as pandas dataframe\n",
    "file_path = raw_data.selected\n",
    "\n",
    "raw_df = pandas.read_excel(io=file_path,\n",
    "                           sheet_name='Form1')\n",
    "\n",
    "# remove illegal characters from column names\n",
    "headers_list = raw_df.columns.values.tolist()\n",
    "headers_list = list(map(make_text_pandas_header_compatible, headers_list))\n",
    "raw_df.columns = headers_list\n",
    "\n",
    "necessary_columns = [\n",
    "    'Have you hired Big Sky Franchise Team',\n",
    "    'How likely would you recommend Big Sky Franchise Team to a friend or colleague 1 is not at all likely and 10 is extremelylikely',\n",
    "    'If you were to do it all over would you hire Big Sky again',\n",
    "    'If no could you please tell why',\n",
    "    'What year did you start franchising',\n",
    "    'How many total franchises have you sold since you started franchisingif not applicable enter NA',\n",
    "    'How many franchises did you sell in your first yearif not applicable enter NA',\n",
    "    'How many franchises did you sell in your second year if not applicable enter NA',\n",
    "    'How many franchises did you sell in your third yearif not applicable enter NA',\n",
    "    'What were your biggest challenges or obstacles to launching your franchise program',\n",
    "    'What were your biggest challenges to selling franchises',\n",
    "    'What have been your biggest challenges in supporting your franchisees select all that apply2',\n",
    "    'What areas do you need help with Select all that apply',\n",
    "    'Would you like to participate in an optional interview to share more insights',\n",
    "    'Please share your email so that we may contact you for an optional interview Leave empty if you prefer to be anonymous',\n",
    "    'Business Name Leave empty if you prefer to be anonymous',\n",
    "]\n",
    "\n",
    "df = raw_df.filter(items=necessary_columns, axis=1)\n"
   ]
  },
  {
   "cell_type": "markdown",
   "id": "3693d190",
   "metadata": {},
   "source": [
    "## General survey analysis"
   ]
  },
  {
   "cell_type": "markdown",
   "id": "0bcdad02",
   "metadata": {},
   "source": [
    "### 1. Have you hired Big Sky Franchise Team?"
   ]
  },
  {
   "cell_type": "code",
   "execution_count": null,
   "id": "601d7122",
   "metadata": {},
   "outputs": [],
   "source": [
    "column_name = 'Have you hired Big Sky Franchise Team'\n",
    "plot_bar_chart(df[column_name])"
   ]
  },
  {
   "cell_type": "markdown",
   "id": "5ed75a22",
   "metadata": {},
   "source": [
    "### 2. How likely would you recommend Big Sky Franchise Team to a friend or colleague? "
   ]
  },
  {
   "cell_type": "code",
   "execution_count": null,
   "id": "3154200d",
   "metadata": {},
   "outputs": [],
   "source": [
    "column_name = 'How likely would you recommend Big Sky Franchise Team to a friend or colleague 1 is not at all likely and 10 is extremelylikely'\n",
    "plot_1_10_hist_chart(df[column_name])"
   ]
  },
  {
   "cell_type": "markdown",
   "id": "b00ceb28",
   "metadata": {},
   "source": [
    "### 3. If you were to do it all over, would you hire Big Sky again?"
   ]
  },
  {
   "cell_type": "code",
   "execution_count": null,
   "id": "f017f48f",
   "metadata": {},
   "outputs": [],
   "source": [
    "column_name = 'If you were to do it all over would you hire Big Sky again'\n",
    "plot_bar_chart(ExtendedSeries(df[column_name]).filter_out_nan())"
   ]
  },
  {
   "cell_type": "markdown",
   "id": "bc513546",
   "metadata": {},
   "source": [
    "### 4. If no, could you please tell why?"
   ]
  },
  {
   "cell_type": "code",
   "execution_count": null,
   "id": "bb7e4e07",
   "metadata": {},
   "outputs": [],
   "source": [
    "column_name = 'If no could you please tell why'\n",
    "plot_text_answer(df[column_name], top=3)"
   ]
  },
  {
   "cell_type": "markdown",
   "id": "b558e210",
   "metadata": {},
   "source": [
    "### 5. What year did you start franchising?"
   ]
  },
  {
   "cell_type": "code",
   "execution_count": null,
   "id": "4210167c",
   "metadata": {},
   "outputs": [],
   "source": [
    "column_name = 'What year did you start franchising'\n",
    "plot_bar_chart(df[column_name])"
   ]
  },
  {
   "cell_type": "markdown",
   "id": "6e88b8a4",
   "metadata": {},
   "source": [
    "### 6. How many total franchises have you sold sold since you started franchising?"
   ]
  },
  {
   "cell_type": "code",
   "execution_count": null,
   "id": "77aa8c84",
   "metadata": {},
   "outputs": [],
   "source": [
    "column_name = 'How many total franchises have you sold since you started franchisingif not applicable enter NA'\n",
    "plot_bar_chart(df[column_name])"
   ]
  },
  {
   "cell_type": "markdown",
   "id": "6e88b8a4",
   "metadata": {},
   "source": [
    "### 7. How many franchises did you sell in your first year?"
   ]
  },
  {
   "cell_type": "code",
   "execution_count": null,
   "id": "77aa8c84",
   "metadata": {},
   "outputs": [],
   "source": [
    "column_name = 'How many franchises did you sell in your first yearif not applicable enter NA'\n",
    "plot_bar_chart(df[column_name])"
   ]
  },
  {
   "cell_type": "markdown",
   "id": "6e88b8a4",
   "metadata": {},
   "source": [
    "### 8. How many franchises did you sell in your second year?"
   ]
  },
  {
   "cell_type": "code",
   "execution_count": null,
   "id": "77aa8c84",
   "metadata": {},
   "outputs": [],
   "source": [
    "column_name = 'How many franchises did you sell in your second year if not applicable enter NA'\n",
    "plot_bar_chart(df[column_name])"
   ]
  },
  {
   "cell_type": "markdown",
   "id": "6e88b8a4",
   "metadata": {},
   "source": [
    "### 9. How many franchises did you sell in your third year?"
   ]
  },
  {
   "cell_type": "code",
   "execution_count": null,
   "id": "77aa8c84",
   "metadata": {},
   "outputs": [],
   "source": [
    "column_name = 'How many franchises did you sell in your third yearif not applicable enter NA'\n",
    "plot_bar_chart(df[column_name])"
   ]
  },
  {
   "cell_type": "markdown",
   "id": "edd888ad",
   "metadata": {},
   "source": [
    "### 10. What were your biggest challenges or obstacles to launching your franchise program?"
   ]
  },
  {
   "cell_type": "code",
   "execution_count": null,
   "id": "b7200bdf",
   "metadata": {},
   "outputs": [],
   "source": [
    "column_name = 'What were your biggest challenges or obstacles to launching your franchise program'\n",
    "plot_text_answer(df[column_name], top=3)"
   ]
  },
  {
   "cell_type": "markdown",
   "id": "b0f8a577",
   "metadata": {},
   "source": [
    "### 11. What were your biggest challenges to selling franchises?"
   ]
  },
  {
   "cell_type": "code",
   "execution_count": null,
   "id": "7a8dbbfb",
   "metadata": {},
   "outputs": [],
   "source": [
    "column_name = 'What were your biggest challenges to selling franchises'\n",
    "plot_text_answer(df[column_name], top=3)"
   ]
  },
  {
   "cell_type": "markdown",
   "id": "c0d530bd",
   "metadata": {},
   "source": [
    "### 12. What have been your biggest challenges in supporting your franchisees"
   ]
  },
  {
   "cell_type": "code",
   "execution_count": null,
   "id": "75b58879",
   "metadata": {},
   "outputs": [],
   "source": [
    "column_name = 'What have been your biggest challenges in supporting your franchisees select all that apply2'\n",
    "expected_values = [\n",
    "\t'None', 'Their motivation', 'They did not follow system', 'Their finances and financial management', \n",
    "\t'Lack of marketing spend by franchisee', 'Quality issues', \n",
    "\t'My (or franchisor) coaching skills', 'Miscommunication'\n",
    "]\n",
    "plot_multichoice_with_other(series=df[column_name], main_values=expected_values, top=5)"
   ]
  },
  {
   "cell_type": "markdown",
   "id": "5a1ca70f",
   "metadata": {},
   "source": [
    "### 13. What areas do you need help with?"
   ]
  },
  {
   "cell_type": "code",
   "execution_count": null,
   "id": "5221ac0b",
   "metadata": {},
   "outputs": [],
   "source": [
    "column_name = 'What areas do you need help with Select all that apply'\n",
    "expected_values = [\n",
    "\t'None', 'Whole franchising process', 'Business plan', 'Financial processes', \n",
    "\t'Competitors analysis', 'Legal documentation', 'Licensing documentation', \n",
    "\t'Marketing', 'Quality Assurance', 'Franchisee training processes', 'Technical support'\n",
    "]\n",
    "plot_multichoice_with_other(series=df[column_name], main_values=expected_values, top=2)"
   ]
  },
  {
   "cell_type": "markdown",
   "id": "a21e4898",
   "metadata": {},
   "source": [
    "### 14/15/16. Private data"
   ]
  },
  {
   "cell_type": "markdown",
   "id": "8d7d2905",
   "metadata": {},
   "source": [
    "# Analyse non-clients"
   ]
  },
  {
   "cell_type": "code",
   "execution_count": null,
   "id": "dbacc5b5",
   "metadata": {},
   "outputs": [],
   "source": [
    "column_name = 'Have you hired Big Sky Franchise Team'\n",
    "non_df = df[df[column_name] == 'Have not hired']"
   ]
  },
  {
   "cell_type": "markdown",
   "id": "5a1ca70f",
   "metadata": {},
   "source": [
    "### 13. What areas do you need help with?"
   ]
  },
  {
   "cell_type": "code",
   "execution_count": null,
   "id": "5221ac0b",
   "metadata": {},
   "outputs": [],
   "source": [
    "column_name = 'What areas do you need help with Select all that apply'\n",
    "expected_values = [\n",
    "\t'None', 'Whole franchising process', 'Business plan', 'Financial processes', \n",
    "\t'Competitors analysis', 'Legal documentation', 'Licensing documentation', \n",
    "\t'Marketing', 'Quality Assurance', 'Franchisee training processes', 'Technical support'\n",
    "]\n",
    "plot_multichoice_with_other(series=non_df[column_name], main_values=expected_values, top=2)"
   ]
  },
  {
   "cell_type": "markdown",
   "id": "3693d190",
   "metadata": {},
   "source": [
    "## Analyse past clients"
   ]
  },
  {
   "cell_type": "code",
   "execution_count": null,
   "id": "dbacc5b5",
   "metadata": {},
   "outputs": [],
   "source": [
    "column_name = 'Have you hired Big Sky Franchise Team'\n",
    "past_df = df[df[column_name] == 'Previously hired']"
   ]
  },
  {
   "cell_type": "markdown",
   "id": "5ed75a22",
   "metadata": {},
   "source": [
    "### 2. How likely would you recommend Big Sky Franchise Team to a friend or colleague? "
   ]
  },
  {
   "cell_type": "code",
   "execution_count": null,
   "id": "3154200d",
   "metadata": {},
   "outputs": [],
   "source": [
    "column_name = 'How likely would you recommend Big Sky Franchise Team to a friend or colleague 1 is not at all likely and 10 is extremelylikely'\n",
    "plot_1_10_hist_chart(past_df[column_name])"
   ]
  },
  {
   "cell_type": "markdown",
   "id": "b00ceb28",
   "metadata": {},
   "source": [
    "### 3. If you were to do it all over, would you hire Big Sky again?"
   ]
  },
  {
   "cell_type": "code",
   "execution_count": null,
   "id": "f017f48f",
   "metadata": {},
   "outputs": [],
   "source": [
    "column_name = 'If you were to do it all over would you hire Big Sky again'\n",
    "plot_bar_chart(ExtendedSeries(past_df[column_name]).filter_out_nan())"
   ]
  },
  {
   "cell_type": "markdown",
   "id": "bc513546",
   "metadata": {},
   "source": [
    "### 4. If no, could you please tell why?"
   ]
  },
  {
   "cell_type": "code",
   "execution_count": null,
   "id": "bb7e4e07",
   "metadata": {},
   "outputs": [],
   "source": [
    "column_name = 'If no could you please tell why'\n",
    "plot_text_answer(past_df[column_name], top=3)"
   ]
  },
  {
   "cell_type": "markdown",
   "id": "b558e210",
   "metadata": {},
   "source": [
    "### 5. What year did you start franchising?"
   ]
  },
  {
   "cell_type": "code",
   "execution_count": null,
   "id": "4210167c",
   "metadata": {},
   "outputs": [],
   "source": [
    "column_name = 'What year did you start franchising'\n",
    "plot_bar_chart(past_df[column_name])"
   ]
  },
  {
   "cell_type": "markdown",
   "id": "6e88b8a4",
   "metadata": {},
   "source": [
    "### 6. How many total franchises have you sold sold since you started franchising?"
   ]
  },
  {
   "cell_type": "code",
   "execution_count": null,
   "id": "77aa8c84",
   "metadata": {},
   "outputs": [],
   "source": [
    "column_name = 'How many total franchises have you sold since you started franchisingif not applicable enter NA'\n",
    "plot_bar_chart(past_df[column_name])"
   ]
  },
  {
   "cell_type": "markdown",
   "id": "edd888ad",
   "metadata": {},
   "source": [
    "### 10. What were your biggest challenges or obstacles to launching your franchise program?"
   ]
  },
  {
   "cell_type": "code",
   "execution_count": null,
   "id": "b7200bdf",
   "metadata": {},
   "outputs": [],
   "source": [
    "column_name = 'What were your biggest challenges or obstacles to launching your franchise program'\n",
    "plot_text_answer(past_df[column_name], top=3)"
   ]
  },
  {
   "cell_type": "markdown",
   "id": "b0f8a577",
   "metadata": {},
   "source": [
    "### 11. What were your biggest challenges to selling franchises?"
   ]
  },
  {
   "cell_type": "code",
   "execution_count": null,
   "id": "7a8dbbfb",
   "metadata": {},
   "outputs": [],
   "source": [
    "column_name = 'What were your biggest challenges to selling franchises'\n",
    "plot_text_answer(past_df[column_name], top=3)"
   ]
  },
  {
   "cell_type": "markdown",
   "id": "c0d530bd",
   "metadata": {},
   "source": [
    "### 12. What have been your biggest challenges in supporting your franchisees"
   ]
  },
  {
   "cell_type": "code",
   "execution_count": null,
   "id": "75b58879",
   "metadata": {},
   "outputs": [],
   "source": [
    "column_name = 'What have been your biggest challenges in supporting your franchisees select all that apply2'\n",
    "expected_values = [\n",
    "\t'None', 'Their motivation', 'They did not follow system', 'Their finances and financial management', \n",
    "\t'Lack of marketing spend by franchisee', 'Quality issues', \n",
    "\t'My (or franchisor) coaching skills', 'Miscommunication'\n",
    "]\n",
    "plot_multichoice_with_other(series=past_df[column_name], main_values=expected_values, top=5)"
   ]
  },
  {
   "cell_type": "markdown",
   "id": "5a1ca70f",
   "metadata": {},
   "source": [
    "### 13. What areas do you need help with?"
   ]
  },
  {
   "cell_type": "code",
   "execution_count": null,
   "id": "5221ac0b",
   "metadata": {},
   "outputs": [],
   "source": [
    "column_name = 'What areas do you need help with Select all that apply'\n",
    "expected_values = [\n",
    "\t'None', 'Whole franchising process', 'Business plan', 'Financial processes', \n",
    "\t'Competitors analysis', 'Legal documentation', 'Licensing documentation', \n",
    "\t'Marketing', 'Quality Assurance', 'Franchisee training processes', 'Technical support'\n",
    "]\n",
    "plot_multichoice_with_other(series=past_df[column_name], main_values=expected_values, top=2)"
   ]
  },
  {
   "cell_type": "markdown",
   "id": "3693d190",
   "metadata": {},
   "source": [
    "## Analyse current clients"
   ]
  },
  {
   "cell_type": "code",
   "execution_count": null,
   "id": "4c0bdba2",
   "metadata": {},
   "outputs": [],
   "source": [
    "column_name = 'Have you hired Big Sky Franchise Team'\n",
    "now_df = df[df[column_name] == 'Currently hired']"
   ]
  },
  {
   "cell_type": "markdown",
   "id": "5ed75a22",
   "metadata": {},
   "source": [
    "### 2. How likely would you recommend Big Sky Franchise Team to a friend or colleague? "
   ]
  },
  {
   "cell_type": "code",
   "execution_count": null,
   "id": "3154200d",
   "metadata": {},
   "outputs": [],
   "source": [
    "column_name = 'How likely would you recommend Big Sky Franchise Team to a friend or colleague 1 is not at all likely and 10 is extremelylikely'\n",
    "plot_1_10_hist_chart(now_df[column_name])"
   ]
  },
  {
   "cell_type": "markdown",
   "id": "b00ceb28",
   "metadata": {},
   "source": [
    "### 3. If you were to do it all over, would you hire Big Sky again?"
   ]
  },
  {
   "cell_type": "code",
   "execution_count": null,
   "id": "f017f48f",
   "metadata": {},
   "outputs": [],
   "source": [
    "column_name = 'If you were to do it all over would you hire Big Sky again'\n",
    "plot_bar_chart(ExtendedSeries(now_df[column_name]).filter_out_nan())"
   ]
  },
  {
   "cell_type": "markdown",
   "id": "bc513546",
   "metadata": {},
   "source": [
    "### 4. If no, could you please tell why?"
   ]
  },
  {
   "cell_type": "code",
   "execution_count": null,
   "id": "bb7e4e07",
   "metadata": {},
   "outputs": [],
   "source": [
    "column_name = 'If no could you please tell why'\n",
    "plot_text_answer(now_df[column_name], top=3)"
   ]
  },
  {
   "cell_type": "markdown",
   "id": "b558e210",
   "metadata": {},
   "source": [
    "### 5. What year did you start franchising?"
   ]
  },
  {
   "cell_type": "code",
   "execution_count": null,
   "id": "4210167c",
   "metadata": {},
   "outputs": [],
   "source": [
    "column_name = 'What year did you start franchising'\n",
    "plot_bar_chart(now_df[column_name])"
   ]
  },
  {
   "cell_type": "markdown",
   "id": "6e88b8a4",
   "metadata": {},
   "source": [
    "### 6. How many total franchises have you sold sold since you started franchising?"
   ]
  },
  {
   "cell_type": "code",
   "execution_count": null,
   "id": "77aa8c84",
   "metadata": {},
   "outputs": [],
   "source": [
    "column_name = 'How many total franchises have you sold since you started franchisingif not applicable enter NA'\n",
    "plot_bar_chart(now_df[column_name])"
   ]
  },
  {
   "cell_type": "markdown",
   "id": "edd888ad",
   "metadata": {},
   "source": [
    "### 10. What were your biggest challenges or obstacles to launching your franchise program?"
   ]
  },
  {
   "cell_type": "code",
   "execution_count": null,
   "id": "b7200bdf",
   "metadata": {},
   "outputs": [],
   "source": [
    "column_name = 'What were your biggest challenges or obstacles to launching your franchise program'\n",
    "plot_text_answer(now_df[column_name], top=3)"
   ]
  },
  {
   "cell_type": "markdown",
   "id": "b0f8a577",
   "metadata": {},
   "source": [
    "### 11. What were your biggest challenges to selling franchises?"
   ]
  },
  {
   "cell_type": "code",
   "execution_count": null,
   "id": "7a8dbbfb",
   "metadata": {},
   "outputs": [],
   "source": [
    "column_name = 'What were your biggest challenges to selling franchises'\n",
    "plot_text_answer(now_df[column_name], top=3)"
   ]
  },
  {
   "cell_type": "markdown",
   "id": "c0d530bd",
   "metadata": {},
   "source": [
    "### 12. What have been your biggest challenges in supporting your franchisees"
   ]
  },
  {
   "cell_type": "code",
   "execution_count": null,
   "id": "75b58879",
   "metadata": {},
   "outputs": [],
   "source": [
    "column_name = 'What have been your biggest challenges in supporting your franchisees select all that apply2'\n",
    "expected_values = [\n",
    "\t'None', 'Their motivation', 'They did not follow system', 'Their finances and financial management', \n",
    "\t'Lack of marketing spend by franchisee', 'Quality issues', \n",
    "\t'My (or franchisor) coaching skills', 'Miscommunication'\n",
    "]\n",
    "plot_multichoice_with_other(series=now_df[column_name], main_values=expected_values, top=5)"
   ]
  },
  {
   "cell_type": "markdown",
   "id": "5a1ca70f",
   "metadata": {},
   "source": [
    "### 13. What areas do you need help with?"
   ]
  },
  {
   "cell_type": "code",
   "execution_count": null,
   "id": "5221ac0b",
   "metadata": {},
   "outputs": [],
   "source": [
    "column_name = 'What areas do you need help with Select all that apply'\n",
    "expected_values = [\n",
    "\t'None', 'Whole franchising process', 'Business plan', 'Financial processes', \n",
    "\t'Competitors analysis', 'Legal documentation', 'Licensing documentation', \n",
    "\t'Marketing', 'Quality Assurance', 'Franchisee training processes', 'Technical support'\n",
    "]\n",
    "plot_multichoice_with_other(series=now_df[column_name], main_values=expected_values, top=2)"
   ]
  }
 ],
 "metadata": {
  "interpreter": {
   "hash": "82b8547b995560d11bdb476f352ea8895001dc11593bb28e2f65048048ad2e6d"
  },
  "kernelspec": {
   "display_name": "Python 3 (ipykernel)",
   "language": "python",
   "name": "python3"
  },
  "language_info": {
   "codemirror_mode": {
    "name": "ipython",
    "version": 3
   },
   "file_extension": ".py",
   "mimetype": "text/x-python",
   "name": "python",
   "nbconvert_exporter": "python",
   "pygments_lexer": "ipython3",
   "version": "3.8.7"
  }
 },
 "nbformat": 4,
 "nbformat_minor": 5
}
