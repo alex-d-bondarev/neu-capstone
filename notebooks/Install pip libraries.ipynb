{
 "cells": [
  {
   "cell_type": "markdown",
   "id": "064313d3",
   "metadata": {},
   "source": [
    "# How to install\n",
    " Select code bellow and click \"Run\" button"
   ]
  },
  {
   "cell_type": "code",
   "execution_count": null,
   "id": "757986b8",
   "metadata": {
    "scrolled": true
   },
   "outputs": [],
   "source": [
    "import sys\n",
    "!{sys.executable} -m pip install ipyfilechooser==0.6.0 openpyxl==3.0.9 pandas==1.3.5"
   ]
  }
 ],
 "metadata": {
  "kernelspec": {
   "display_name": "Python 3 (ipykernel)",
   "language": "python",
   "name": "python3"
  },
  "language_info": {
   "codemirror_mode": {
    "name": "ipython",
    "version": 3
   },
   "file_extension": ".py",
   "mimetype": "text/x-python",
   "name": "python",
   "nbconvert_exporter": "python",
   "pygments_lexer": "ipython3",
   "version": "3.8.7"
  }
 },
 "nbformat": 4,
 "nbformat_minor": 5
}
