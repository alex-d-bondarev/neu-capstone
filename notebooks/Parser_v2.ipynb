{
 "cells": [
  {
   "cell_type": "markdown",
   "id": "58438681",
   "metadata": {},
   "source": [
    "# Analyse data"
   ]
  },
  {
   "cell_type": "markdown",
   "id": "a1d42061",
   "metadata": {},
   "source": [
    "## Preconditions"
   ]
  },
  {
   "cell_type": "markdown",
   "id": "09df3c41",
   "metadata": {},
   "source": [
    "### Precondition 1\n",
    "Need to import libraries **only once** each time jupiter notebook is launched"
   ]
  },
  {
   "cell_type": "code",
   "execution_count": null,
   "id": "0238b9b3",
   "metadata": {},
   "outputs": [],
   "source": [
    "import pandas\n",
    "\n",
    "from ipyfilechooser import FileChooser\n",
    "\n",
    "import sys \n",
    "import os\n",
    "\n",
    "abs_path = os.path.abspath(os.path.join('..'))\n",
    "sys.path.insert(0, abs_path)\n",
    "\n",
    "from src.common_helpers import make_text_pandas_header_compatible\n",
    "from src.extended_pandas_series import ExtendedSeries\n",
    "from src.plot_helpers import plot_bar_chart, plot_1_10_hist_chart, plot_text_answer, plot_multichoice_with_other\n"
   ]
  },
  {
   "cell_type": "markdown",
   "id": "07b71238",
   "metadata": {},
   "source": [
    "### Precondition 2\n",
    "Choose raw excel file. \n",
    "Download survey results to your computer. Select downloaded file with \"Select\" button. \n",
    "The button will appear once you run the code below"
   ]
  },
  {
   "cell_type": "code",
   "execution_count": null,
   "id": "9921ec2c",
   "metadata": {},
   "outputs": [],
   "source": [
    "raw_data = FileChooser()\n",
    "display(raw_data)"
   ]
  },
  {
   "cell_type": "markdown",
   "id": "9f9f611b",
   "metadata": {},
   "source": [
    "## Read the file\n",
    "### Step 1\n",
    "Read the file, remove unparsible characters, and print available columns"
   ]
  },
  {
   "cell_type": "code",
   "execution_count": null,
   "id": "20891dc1",
   "metadata": {},
   "outputs": [],
   "source": [
    "# open excel file as pandas dataframe\n",
    "raw_df = pandas.read_excel(io=raw_data.selected,\n",
    "                           sheet_name='Form1')\n",
    "\n",
    "# remove illegal characters from column names\n",
    "headers_list = raw_df.columns.values.tolist()\n",
    "headers_list = list(map(make_text_pandas_header_compatible, headers_list))\n",
    "raw_df.columns = headers_list\n",
    "\n",
    "# Print result\n",
    "print(f'All columns after cleanup:')\n",
    "print(*headers_list, sep=\"\\n\")"
   ]
  },
  {
   "cell_type": "markdown",
   "id": "76621731",
   "metadata": {},
   "source": [
    "### Step 2\n",
    "Choose columns that you will be working with by listing them below. Use single quotes and seperate by comas."
   ]
  },
  {
   "cell_type": "code",
   "execution_count": null,
   "id": "bab285d7",
   "metadata": {},
   "outputs": [],
   "source": [
    "necessary_columns = [\n",
    "    'Have you hired Big Sky Franchise Team',\n",
    "    'How likely would you recommend Big Sky Franchise Team to a friend or colleague 1 is not at all likely and 10 is extremelylikely',\n",
    "    'If you were to do it all over would you hire Big Sky again',\n",
    "    'If no could you please tell why',\n",
    "    'What year did you start franchising',\n",
    "    'How many total franchises have you sold since you started franchisingif not applicable enter NA',\n",
    "    'How many franchises did you sell in your first yearif not applicable enter NA',\n",
    "    'How many franchises did you sell in your second year if not applicable enter NA',\n",
    "    'How many franchises did you sell in your third yearif not applicable enter NA',\n",
    "    'What were your biggest challenges or obstacles to launching your franchise program',\n",
    "    'What were your biggest challenges to selling franchises',\n",
    "    'What have been your biggest challenges in supporting your franchisees select all that apply2',\n",
    "    'What areas do you need help with Select all that apply',\n",
    "    'Would you like to participate in an optional interview to share more insights',\n",
    "    'Please share your email so that we may contact you for an optional interview Leave empty if you prefer to be anonymous',\n",
    "    'Business Name Leave empty if you prefer to be anonymous',\n",
    "    ]\n"
   ]
  },
  {
   "cell_type": "markdown",
   "id": "53034392",
   "metadata": {},
   "source": [
    "### Step 3\n",
    "Filter columns based on the list above"
   ]
  },
  {
   "cell_type": "code",
   "execution_count": null,
   "id": "8260212a",
   "metadata": {},
   "outputs": [],
   "source": [
    "df = raw_df.filter(items=necessary_columns, axis=1)"
   ]
  },
  {
   "cell_type": "markdown",
   "id": "3693d190",
   "metadata": {},
   "source": [
    "## Parse questions"
   ]
  },
  {
   "cell_type": "markdown",
   "id": "0bcdad02",
   "metadata": {},
   "source": [
    "### 1. Have you hired Big Sky Franchise Team?"
   ]
  },
  {
   "cell_type": "code",
   "execution_count": null,
   "id": "601d7122",
   "metadata": {},
   "outputs": [],
   "source": [
    "plot_bar_chart(df['Have you hired Big Sky Franchise Team'])"
   ]
  },
  {
   "cell_type": "markdown",
   "id": "5ed75a22",
   "metadata": {},
   "source": [
    "### 2. How likely would you recommend Big Sky Franchise Team to a friend or colleague? "
   ]
  },
  {
   "cell_type": "code",
   "execution_count": null,
   "id": "3154200d",
   "metadata": {},
   "outputs": [],
   "source": [
    "column_name = 'How likely would you recommend Big Sky Franchise Team to a friend or colleague 1 is not at all likely and 10 is extremelylikely'\n",
    "plot_1_10_hist_chart(df[column_name])"
   ]
  },
  {
   "cell_type": "markdown",
   "id": "b00ceb28",
   "metadata": {},
   "source": [
    "### 3. If you were to do it all over, would you hire Big Sky again?"
   ]
  },
  {
   "cell_type": "code",
   "execution_count": null,
   "id": "f017f48f",
   "metadata": {},
   "outputs": [],
   "source": [
    "# Drop NaN values. Are they coming from non customers? Need to add a better filter... TBD!\n",
    "column_name = 'If you were to do it all over would you hire Big Sky again'\n",
    "plot_bar_chart(ExtendedSeries(df[column_name]).filter_out_nan())"
   ]
  },
  {
   "cell_type": "markdown",
   "id": "bc513546",
   "metadata": {},
   "source": [
    "### 4. If no, could you please tell why?"
   ]
  },
  {
   "cell_type": "code",
   "execution_count": null,
   "id": "bb7e4e07",
   "metadata": {},
   "outputs": [],
   "source": [
    "# Only single value so far. skipping"
   ]
  },
  {
   "cell_type": "markdown",
   "id": "b558e210",
   "metadata": {},
   "source": [
    "### 5. What year did you start franchising?"
   ]
  },
  {
   "cell_type": "code",
   "execution_count": null,
   "id": "4210167c",
   "metadata": {},
   "outputs": [],
   "source": [
    "plot_bar_chart(df['What year did you start franchising'])"
   ]
  },
  {
   "cell_type": "markdown",
   "id": "6e88b8a4",
   "metadata": {},
   "source": [
    "### 6/7/8/9. How many total franchises have you sold ..."
   ]
  },
  {
   "cell_type": "code",
   "execution_count": null,
   "id": "77aa8c84",
   "metadata": {},
   "outputs": [],
   "source": [
    "column_name = 'How many total franchises have you sold since you started franchisingif not applicable enter NA'\n",
    "plot_bar_chart(df[column_name])"
   ]
  },
  {
   "cell_type": "markdown",
   "id": "edd888ad",
   "metadata": {},
   "source": [
    "### 10. What were your biggest challenges or obstacles to launching your franchise program?"
   ]
  },
  {
   "cell_type": "code",
   "execution_count": null,
   "id": "b7200bdf",
   "metadata": {},
   "outputs": [],
   "source": [
    "column_name = 'What were your biggest challenges or obstacles to launching your franchise program'\n",
    "plot_text_answer(df[column_name], top=3)"
   ]
  },
  {
   "cell_type": "markdown",
   "id": "b0f8a577",
   "metadata": {},
   "source": [
    "### 11. What were your biggest challenges to selling franchises?"
   ]
  },
  {
   "cell_type": "code",
   "execution_count": null,
   "id": "7a8dbbfb",
   "metadata": {},
   "outputs": [],
   "source": [
    "column_name = 'What were your biggest challenges to selling franchises'\n",
    "plot_text_answer(df[column_name], top=3)"
   ]
  },
  {
   "cell_type": "markdown",
   "id": "c0d530bd",
   "metadata": {},
   "source": [
    "### 12. What have been your biggest challenges in supporting your franchisees"
   ]
  },
  {
   "cell_type": "code",
   "execution_count": null,
   "id": "75b58879",
   "metadata": {},
   "outputs": [],
   "source": [
    "column_name = 'What have been your biggest challenges in supporting your franchisees select all that apply2'\n",
    "expected_values = [\n",
    "\t'None', 'Their motivation', 'They did not follow system', 'Their finances and financial management', \n",
    "\t'Lack of marketing spend by franchisee', 'Quality issues', \n",
    "\t'My (or franchisor) coaching skills', 'Miscommunication'\n",
    "]\n",
    "plot_multichoice_with_other(series=df[column_name], expected_values=expected_values, top=5)"
   ]
  },
  {
   "cell_type": "markdown",
   "id": "5a1ca70f",
   "metadata": {},
   "source": [
    "### 13. What areas do you need help with?"
   ]
  },
  {
   "cell_type": "code",
   "execution_count": null,
   "id": "5221ac0b",
   "metadata": {},
   "outputs": [],
   "source": [
    "column_name = 'What areas do you need help with Select all that apply'\n",
    "expected_values = [\n",
    "\t'None', 'Whole franchising process', 'Business plan', 'Financial processes', \n",
    "\t'Competitors analysis', 'Legal documentation', 'Licensing documentation', \n",
    "\t'Marketing', 'Quality Assurance', 'Franchisee training processes', 'Technical support'\n",
    "]\n",
    "plot_multichoice_with_other(series=df[column_name], expected_values=expected_values, top=2)"
   ]
  },
  {
   "cell_type": "markdown",
   "id": "a21e4898",
   "metadata": {},
   "source": [
    "### 14/15/16. Private data, count number of volunteers only"
   ]
  },
  {
   "cell_type": "markdown",
   "id": "8d7d2905",
   "metadata": {},
   "source": [
    "# Thats all!"
   ]
  }
 ],
 "metadata": {
  "interpreter": {
   "hash": "82b8547b995560d11bdb476f352ea8895001dc11593bb28e2f65048048ad2e6d"
  },
  "kernelspec": {
   "display_name": "Python 3.8.7 ('neu-capstone-n9zSqm5Z')",
   "language": "python",
   "name": "python3"
  },
  "language_info": {
   "codemirror_mode": {
    "name": "ipython",
    "version": 3
   },
   "file_extension": ".py",
   "mimetype": "text/x-python",
   "name": "python",
   "nbconvert_exporter": "python",
   "pygments_lexer": "ipython3",
   "version": "3.8.7"
  }
 },
 "nbformat": 4,
 "nbformat_minor": 5
}
