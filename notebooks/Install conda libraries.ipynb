{
 "cells": [
  {
   "cell_type": "markdown",
   "id": "7889ca1f",
   "metadata": {},
   "source": [
    "# How to install\n",
    "Select code bellow and click \"Run\" button"
   ]
  },
  {
   "cell_type": "code",
   "execution_count": null,
   "id": "f84bbbac",
   "metadata": {},
   "outputs": [],
   "source": [
    "import sys\n",
    "!conda install --yes --prefix {sys.prefix} ipyfilechooser=0.6.0 openpyxl=3.0.9 pandas=1.3.5"
   ]
  }
 ],
 "metadata": {
  "kernelspec": {
   "display_name": "Python 3 (ipykernel)",
   "language": "python",
   "name": "python3"
  },
  "language_info": {
   "codemirror_mode": {
    "name": "ipython",
    "version": 3
   },
   "file_extension": ".py",
   "mimetype": "text/x-python",
   "name": "python",
   "nbconvert_exporter": "python",
   "pygments_lexer": "ipython3",
   "version": "3.8.7"
  }
 },
 "nbformat": 4,
 "nbformat_minor": 5
}
