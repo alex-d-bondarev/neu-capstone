{
 "cells": [
  {
   "cell_type": "markdown",
   "id": "58438681",
   "metadata": {},
   "source": [
    "# Analyse data"
   ]
  },
  {
   "cell_type": "markdown",
   "id": "a1d42061",
   "metadata": {},
   "source": [
    "## Preconditions"
   ]
  },
  {
   "cell_type": "markdown",
   "id": "09df3c41",
   "metadata": {},
   "source": [
    "### Precondition 1\n",
    "Need to import libraries **only once** each time jupiter notebook is launched"
   ]
  },
  {
   "cell_type": "code",
   "execution_count": null,
   "id": "0238b9b3",
   "metadata": {},
   "outputs": [],
   "source": [
    "import inspect # For debug\n",
    "import numpy\n",
    "import pandas\n",
    "import re\n",
    "import spacy\n",
    "import xlsxwriter\n",
    "\n",
    "from collections import Counter\n",
    "from ipyfilechooser import FileChooser\n",
    "from matplotlib import pyplot\n",
    "from pathlib import Path\n",
    "from pandas import DataFrame\n",
    "from pandas.core.series import Series\n",
    "from typing import List\n",
    "\n",
    "# Download spacy NLP model\n",
    "spacy_model = 'en_core_web_sm'\n",
    "try:\n",
    "    nlp = spacy.load(spacy_model)\n",
    "except OSError:\n",
    "    print('Downloading language model for the spaCy POS tagger\\n'\n",
    "        \"(don't worry, this will only happen once)\")\n",
    "    from spacy.cli import download\n",
    "    download(spacy_model)\n",
    "    nlp = spacy.load(spacy_model)"
   ]
  },
  {
   "cell_type": "markdown",
   "id": "694ab871",
   "metadata": {},
   "source": [
    "### Precondition 2\n",
    "Define methods that will be used further in this notebook. Need to run this section **only once** each time jupiter notebook is launched. Also need to do it each time you update the code"
   ]
  },
  {
   "cell_type": "code",
   "execution_count": null,
   "id": "81c381ee",
   "metadata": {},
   "outputs": [],
   "source": [
    "def remove_illegal_chars(text: str) -> str:\n",
    "    \"\"\"\n",
    "    Remove all characters from the given text that are not English letters, \n",
    "    numbers, and \" \" (space character).\n",
    "    return updated text\n",
    "    \"\"\"\n",
    "    text = re.sub('[^A-Za-z0-9\\ ]+', '', text)\n",
    "    text.strip()\n",
    "    return text\n",
    "\n",
    "\n",
    "def plot_bar_chart(series: Series) -> None:\n",
    "    \"\"\"\n",
    "    Show a bar chart for given data series.\n",
    "    Values such as NaN, None, etc. are converted to 0.\n",
    "    Data values are lazy sorted\n",
    "    Data values are converted to percentages.\n",
    "    x labels are rotated 15%\n",
    "    \"\"\"\n",
    "    series \\\n",
    "    .fillna('0') \\\n",
    "    .replace(['Na', 'None', 'None '], '0') \\\n",
    "    .sort_values() \\\n",
    "    .value_counts(normalize=True) \\\n",
    "    .mul(100).round(1).plot(\n",
    "        ylabel=\"percentage\",\n",
    "        kind=\"bar\",\n",
    "        rot=15\n",
    "    )\n",
    "\n",
    "\n",
    "def plot_1_10_hist_chart(series: Series) -> None:\n",
    "    \"\"\"\n",
    "    Print mean value and show histogram chart for given data series.\n",
    "    Always show x axis 1 to 10\n",
    "    \"\"\"\n",
    "    print(f'Mean value is {round(series.mean(), 1)}')\n",
    "    \n",
    "    series.plot(\n",
    "        kind='hist',\n",
    "        xticks=range(1, 11)\n",
    "    )\n",
    "\n",
    "\n",
    "def filter_out_nan(series: Series) -> Series:\n",
    "    \"\"\"\n",
    "    Return new series without NaN values, without updating data frame\n",
    "    \"\"\"\n",
    "    nan_values = series.isnull()\n",
    "    return series[~nan_values]\n",
    "\n",
    "\n",
    "def merge_into_single_string(series: Series) -> str:\n",
    "    \"\"\"Self evident\"\"\"\n",
    "    return ' '.join(series.values.tolist())\n",
    "\n",
    "\n",
    "def get_nouns_from(series: Series) -> List:\n",
    "    \"\"\"\n",
    "    Return list of nouns for given data series. Replace known synonyms.\n",
    "    \"\"\"\n",
    "    text_to_analyse = remove_illegal_chars(merge_into_single_string(series))\n",
    "    nlp_doc = nlp(text_to_analyse)\n",
    "\n",
    "    # Filter out only nouns\n",
    "    drop_words = [' ', '0', 'who']\n",
    "    \n",
    "    nouns = [\n",
    "        token.text.lower() \n",
    "        for token in nlp_doc\n",
    "        if not token.is_stop \n",
    "        and token.pos_ == \"NOUN\" or token.pos_ == \"PROPN\" or token.pos_==\"PRON\"\n",
    "        and not token.is_punct\n",
    "        and not token.text.lower() in drop_words\n",
    "    ]\n",
    "\n",
    "    # Replace known synonyms\n",
    "    synonyms = [('budget', 'cost'), \n",
    "                ('covid', 'pandemic')]\n",
    "    for (syn1, syn2) in synonyms:\n",
    "        nouns = [word.replace(syn1, syn2) for word in nouns]\n",
    "    \n",
    "    return nouns\n",
    "\n",
    "\n",
    "def plot_most_common_words(words: List[str], top: int) -> None:\n",
    "    \"\"\"Self evident\"\"\"\n",
    "    # Get top words\n",
    "    nouns_freq = Counter(words)\n",
    "    top_nouns = nouns_freq.most_common(top)\n",
    "\n",
    "    display_counter = Counter()\n",
    "    for (k, v) in top_nouns:\n",
    "        display_counter[k] = v\n",
    "    \n",
    "    # Create a plot\n",
    "    # Credit to https://stackoverflow.com/a/22222738/8661297\n",
    "    keys = display_counter.keys()\n",
    "    y_pos = numpy.arange(len(keys))\n",
    "    x_values = display_counter.values()\n",
    "    max_value = display_counter.most_common(1)[0][1]\n",
    "\n",
    "    pyplot.barh(y_pos, x_values, alpha=0.4)\n",
    "    pyplot.yticks(y_pos, keys)\n",
    "    pyplot.xticks(range(0, (max_value+1)))"
   ]
  },
  {
   "cell_type": "markdown",
   "id": "07b71238",
   "metadata": {},
   "source": [
    "### Precondition 3\n",
    "Choose raw excel file. \n",
    "Download survey results to your computer. Select downloaded file with \"Select\" button. \n",
    "The button will appear once you run the code below"
   ]
  },
  {
   "cell_type": "code",
   "execution_count": null,
   "id": "9921ec2c",
   "metadata": {},
   "outputs": [],
   "source": [
    "raw_data = FileChooser()\n",
    "display(raw_data)"
   ]
  },
  {
   "cell_type": "markdown",
   "id": "9f9f611b",
   "metadata": {},
   "source": [
    "## Read the file\n",
    "### Step 1\n",
    "Read the file, remove unparsible characters, and print available columns"
   ]
  },
  {
   "cell_type": "code",
   "execution_count": null,
   "id": "20891dc1",
   "metadata": {},
   "outputs": [],
   "source": [
    "# open excel file as pandas dataframe\n",
    "raw_df = pandas.read_excel(io=raw_data.selected, \n",
    "                            sheet_name='Form1')\n",
    "\n",
    "# remove illegal characters from column names\n",
    "headers_list = raw_df.columns.values.tolist()\n",
    "headers_list = list(map(remove_illegal_chars, headers_list))\n",
    "raw_df.columns = headers_list\n",
    "\n",
    "# Print result\n",
    "print(f'All columns after cleanup:')\n",
    "print(*headers_list, sep = \"\\n\")\n"
   ]
  },
  {
   "cell_type": "markdown",
   "id": "76621731",
   "metadata": {},
   "source": [
    "### Step 2\n",
    "Choose columns that you will be working with by listing them below. Use single quotes and seperate by comas."
   ]
  },
  {
   "cell_type": "code",
   "execution_count": null,
   "id": "bab285d7",
   "metadata": {},
   "outputs": [],
   "source": [
    "necessary_columns = [\n",
    "    'Have you hired Big Sky Franchise Team',\n",
    "    'How likely would you recommend Big Sky Franchise Team to a friend or colleague 1 is not at all likely and 10 is extremelylikely',\n",
    "    'If you were to do it all over would you hire Big Sky again',\n",
    "    'If no could you please tell why',\n",
    "    'What year did you start franchising',\n",
    "    'How many total franchises have you sold since you started franchisingif not applicable enter NA',\n",
    "    'How many franchises did you sell in your first yearif not applicable enter NA',\n",
    "    'How many franchises did you sell in your second year if not applicable enter NA',\n",
    "    'How many franchises did you sell in your third yearif not applicable enter NA',\n",
    "    'What were your biggest challenges or obstacles to launching your franchise program',\n",
    "    'What were your biggest challenges to selling franchises',\n",
    "    'What have been your biggest challenges in supporting your franchisees select all that apply2',\n",
    "    'What areas do you need help with Select all that apply',\n",
    "    'Would you like to participate in an optional interview to share more insights',\n",
    "    'Please share your email so that we may contact you for an optional interview Leave empty if you prefer to be anonymous',\n",
    "    'Business Name Leave empty if you prefer to be anonymous',\n",
    "    ]\n"
   ]
  },
  {
   "cell_type": "markdown",
   "id": "53034392",
   "metadata": {},
   "source": [
    "### Step 3\n",
    "Filter columns based on the list above"
   ]
  },
  {
   "cell_type": "code",
   "execution_count": null,
   "id": "8260212a",
   "metadata": {},
   "outputs": [],
   "source": [
    "df = raw_df.filter(items=necessary_columns, axis=1)"
   ]
  },
  {
   "cell_type": "markdown",
   "id": "3693d190",
   "metadata": {},
   "source": [
    "## Parse questions"
   ]
  },
  {
   "cell_type": "markdown",
   "id": "0bcdad02",
   "metadata": {},
   "source": [
    "### 1. Have you hired Big Sky Franchise Team?"
   ]
  },
  {
   "cell_type": "code",
   "execution_count": null,
   "id": "601d7122",
   "metadata": {},
   "outputs": [],
   "source": [
    "plot_bar_chart(df['Have you hired Big Sky Franchise Team'])"
   ]
  },
  {
   "cell_type": "markdown",
   "id": "5ed75a22",
   "metadata": {},
   "source": [
    "### 2. How likely would you recommend Big Sky Franchise Team to a friend or colleague? "
   ]
  },
  {
   "cell_type": "code",
   "execution_count": null,
   "id": "3154200d",
   "metadata": {},
   "outputs": [],
   "source": [
    "column_name = 'How likely would you recommend Big Sky Franchise Team to a friend or colleague 1 is not at all likely and 10 is extremelylikely'\n",
    "plot_1_10_hist_chart(df[column_name])\n"
   ]
  },
  {
   "cell_type": "markdown",
   "id": "b00ceb28",
   "metadata": {},
   "source": [
    "### 3. If you were to do it all over, would you hire Big Sky again?"
   ]
  },
  {
   "cell_type": "code",
   "execution_count": null,
   "id": "f017f48f",
   "metadata": {},
   "outputs": [],
   "source": [
    "# Drop NaN values. Are they coming from non customers? Need to add a better filter... TBD!\n",
    "column_name = 'If you were to do it all over would you hire Big Sky again'\n",
    "plot_bar_chart(filter_out_nan(df[column_name][~nan_values]))"
   ]
  },
  {
   "cell_type": "markdown",
   "id": "bc513546",
   "metadata": {},
   "source": [
    "### 4. If no, could you please tell why?"
   ]
  },
  {
   "cell_type": "code",
   "execution_count": null,
   "id": "bb7e4e07",
   "metadata": {},
   "outputs": [],
   "source": [
    "# No values so far. skipping"
   ]
  },
  {
   "cell_type": "markdown",
   "id": "b558e210",
   "metadata": {},
   "source": [
    "### 5. What year did you start franchising?"
   ]
  },
  {
   "cell_type": "code",
   "execution_count": null,
   "id": "4210167c",
   "metadata": {},
   "outputs": [],
   "source": [
    "plot_bar_chart(df['What year did you start franchising?'])"
   ]
  },
  {
   "cell_type": "markdown",
   "id": "6e88b8a4",
   "metadata": {},
   "source": [
    "### 6/7/8/9. How many total franchises have you sold ..."
   ]
  },
  {
   "cell_type": "code",
   "execution_count": null,
   "id": "77aa8c84",
   "metadata": {},
   "outputs": [],
   "source": [
    "column_name = 'How many total franchises have you sold since you started franchisingif not applicable enter NA'\n",
    "plot_bar_chart(df[column_name])"
   ]
  },
  {
   "cell_type": "markdown",
   "id": "edd888ad",
   "metadata": {},
   "source": [
    "### 10. What were your biggest challenges or obstacles to launching your franchise program?"
   ]
  },
  {
   "cell_type": "code",
   "execution_count": null,
   "id": "b7200bdf",
   "metadata": {},
   "outputs": [],
   "source": [
    "column_name = 'What were your biggest challenges or obstacles to launching your franchise program'\n",
    "nouns = get_nouns_from(filter_out_nan(df[column_name]))\n",
    "plot_most_common_words(words=nouns, top=5)"
   ]
  },
  {
   "cell_type": "markdown",
   "id": "b0f8a577",
   "metadata": {},
   "source": [
    "### 11. What were your biggest challenges to selling franchises?"
   ]
  },
  {
   "cell_type": "code",
   "execution_count": null,
   "id": "7a8dbbfb",
   "metadata": {},
   "outputs": [],
   "source": []
  },
  {
   "cell_type": "markdown",
   "id": "c0d530bd",
   "metadata": {},
   "source": [
    "### 12. What have been your biggest challenges in supporting your franchisees"
   ]
  },
  {
   "cell_type": "code",
   "execution_count": null,
   "id": "75b58879",
   "metadata": {},
   "outputs": [],
   "source": []
  },
  {
   "cell_type": "markdown",
   "id": "5a1ca70f",
   "metadata": {},
   "source": [
    "### 13. What areas do you need help with?"
   ]
  },
  {
   "cell_type": "code",
   "execution_count": null,
   "id": "5221ac0b",
   "metadata": {},
   "outputs": [],
   "source": []
  },
  {
   "cell_type": "markdown",
   "id": "a21e4898",
   "metadata": {},
   "source": [
    "### 14/15/16. Private data, count number of volunteers only"
   ]
  },
  {
   "cell_type": "markdown",
   "id": "13faa22e",
   "metadata": {},
   "source": [
    "## Save to files.... do we need this? :thinking_face: TBD!"
   ]
  },
  {
   "cell_type": "code",
   "execution_count": null,
   "id": "6f07ae4b",
   "metadata": {},
   "outputs": [],
   "source": [
    "clients_df = df[df['Have you hired Big Sky Franchise Team?'] != 'Have not hired']"
   ]
  },
  {
   "cell_type": "markdown",
   "id": "bbb4422d",
   "metadata": {},
   "source": [
    "Select necessary excel columns for clients' responses. Use single quotes and seperate by comas."
   ]
  },
  {
   "cell_type": "code",
   "execution_count": null,
   "id": "ce613d13",
   "metadata": {},
   "outputs": [],
   "source": [
    "cl_columns = [\n",
    "    'How likely would you recommend Big Sky Franchise Team to a friend or colleague? 1 is not at all likely and 10 is extremelylikely',\n",
    "    'If you were to do it all over would you hire Big Sky again?',\n",
    "    'If no could you please tell why?',\n",
    "    'What year did you start franchising?',\n",
    "    'How many franchises did you sell in your second year? if not applicable enter NA2'\n",
    "    'How many franchises did you sell in your first year?if not applicable enter NA',\n",
    "    'How many franchises did you sell in your second year? if not applicable enter NA',\n",
    "    'How many franchises did you sell in your third year?if not applicable enter NA',\n",
    "    'What were your biggest challenges or obstacles to launching your franchise program?',\n",
    "    'What were your biggest challenges to selling franchises?',\n",
    "    'What have been your biggest challenges in supporting your franchisees select all that apply?2',\n",
    "    'Would you like to participate in an optional interview to share more insights?',\n",
    "    'Please share your email so that we may contact you for an optional interview Leave empty if you prefer to be anonymous',\n",
    "    'Business Name Leave empty if you prefer to be anonymous',\n",
    "    ]\n"
   ]
  },
  {
   "cell_type": "code",
   "execution_count": null,
   "id": "dbdc4a95",
   "metadata": {},
   "outputs": [],
   "source": [
    "clients_df = clients_df.filter(items=cl_columns, axis=1)"
   ]
  },
  {
   "cell_type": "markdown",
   "id": "6fa408d1",
   "metadata": {},
   "source": [
    "## Group nonclients in a separate dataframe"
   ]
  },
  {
   "cell_type": "code",
   "execution_count": null,
   "id": "87884b07",
   "metadata": {},
   "outputs": [],
   "source": [
    "nonclients_df = df[df['Have you hired Big Sky Franchise Team?'] == 'Have not hired']"
   ]
  },
  {
   "cell_type": "markdown",
   "id": "e8bbf718",
   "metadata": {},
   "source": [
    "Select necessary excel columns for nonclients' responses. Use single quotes and seperate by comas."
   ]
  },
  {
   "cell_type": "code",
   "execution_count": null,
   "id": "4110f382",
   "metadata": {},
   "outputs": [],
   "source": [
    "non_cl_columns = [\n",
    "    'What areas do you need help with? Select all that apply',\n",
    "    'Please share your email so that we may contact you for an optional interview Leave empty if you prefer to be anonymous',\n",
    "    'Business Name Leave empty if you prefer to be anonymous',\n",
    "    ]\n"
   ]
  },
  {
   "cell_type": "code",
   "execution_count": null,
   "id": "ce1d4555",
   "metadata": {},
   "outputs": [],
   "source": [
    "nonclients_df = nonclients_df.filter(items=non_cl_columns, axis=1)"
   ]
  },
  {
   "cell_type": "markdown",
   "id": "3e93e942",
   "metadata": {},
   "source": [
    "Save results (choose folder and output filename without '.xlsx' extension)"
   ]
  },
  {
   "cell_type": "code",
   "execution_count": null,
   "id": "3f719ce1",
   "metadata": {},
   "outputs": [],
   "source": [
    "target = FileChooser()\n",
    "display(target)"
   ]
  },
  {
   "cell_type": "code",
   "execution_count": null,
   "id": "291d5d18",
   "metadata": {},
   "outputs": [],
   "source": [
    "target_path = target.selected + '.xlsx'\n",
    "writer = pandas.ExcelWriter(target_path, engine='xlsxwriter')\n",
    "\n",
    "clients_df.to_excel(excel_writer=writer, sheet_name='Clients')\n",
    "nonclients_df.to_excel(excel_writer=writer, sheet_name='NonClients')\n",
    "\n",
    "writer.save()"
   ]
  },
  {
   "cell_type": "markdown",
   "id": "8d7d2905",
   "metadata": {},
   "source": [
    "Thats all!"
   ]
  }
 ],
 "metadata": {
  "kernelspec": {
   "display_name": "Python 3 (ipykernel)",
   "language": "python",
   "name": "python3"
  },
  "language_info": {
   "codemirror_mode": {
    "name": "ipython",
    "version": 3
   },
   "file_extension": ".py",
   "mimetype": "text/x-python",
   "name": "python",
   "nbconvert_exporter": "python",
   "pygments_lexer": "ipython3",
   "version": "3.8.7"
  }
 },
 "nbformat": 4,
 "nbformat_minor": 5
}
