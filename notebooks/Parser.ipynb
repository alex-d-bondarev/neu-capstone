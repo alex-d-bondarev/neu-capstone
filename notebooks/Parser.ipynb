{
 "cells": [
  {
   "cell_type": "markdown",
   "id": "09df3c41",
   "metadata": {},
   "source": [
    "Need to import libraries **only once** each time jupiter notebook is launched"
   ]
  },
  {
   "cell_type": "code",
   "execution_count": null,
   "id": "0238b9b3",
   "metadata": {},
   "outputs": [],
   "source": [
    "import pandas\n",
    "import re\n",
    "import xlsxwriter\n",
    "\n",
    "from ipyfilechooser import FileChooser\n",
    "from pathlib import Path\n",
    "from pandas import DataFrame"
   ]
  },
  {
   "cell_type": "markdown",
   "id": "07b71238",
   "metadata": {},
   "source": [
    "## Choose raw excel file\n",
    "Download survey results to your computer. Select downloaded file with \"Select\" button. \n",
    "The button will appear once you run the code below"
   ]
  },
  {
   "cell_type": "code",
   "execution_count": null,
   "id": "9921ec2c",
   "metadata": {},
   "outputs": [],
   "source": [
    "raw_data = FileChooser()\n",
    "display(raw_data)"
   ]
  },
  {
   "cell_type": "code",
   "execution_count": null,
   "id": "20891dc1",
   "metadata": {},
   "outputs": [],
   "source": [
    "# open excel file as pandas dataframe\n",
    "form_df = pandas.read_excel(io=raw_data.selected, \n",
    "                            sheet_name='Form1')\n",
    "\n",
    "# remove illegal characters from column names\n",
    "headers_list = form_df.columns.values.tolist()\n",
    "\n",
    "def remove_illegal_chars(text):\n",
    "    text = re.sub('[^A-Za-z0-9_\\ ?]+', '', text)\n",
    "    text.strip()\n",
    "    return text    \n",
    "    \n",
    "headers_list = list(map(remove_illegal_chars, headers_list))\n",
    "form_df.columns = headers_list\n",
    "\n",
    "print(f'All columns after cleanup:')\n",
    "print(*headers_list, sep = \"\\n\")\n"
   ]
  },
  {
   "cell_type": "markdown",
   "id": "76621731",
   "metadata": {},
   "source": [
    "Type necessary columns that you need for furter parsing. Use single quotes and seperate by comas."
   ]
  },
  {
   "cell_type": "code",
   "execution_count": null,
   "id": "bab285d7",
   "metadata": {},
   "outputs": [],
   "source": [
    "necessary_columns = [\n",
    "    'Have you hired Big Sky Franchise Team?',\n",
    "    'How likely would you recommend Big Sky Franchise Team to a friend or colleague? 1 is not at all likely and 10 is extremelylikely',\n",
    "    'If you were to do it all over would you hire Big Sky again?',\n",
    "    'If no could you please tell why?',\n",
    "    'What year did you start franchising?',\n",
    "    'How many franchises did you sell in your second year? if not applicable enter NA2'\n",
    "    'How many franchises did you sell in your first year?if not applicable enter NA',\n",
    "    'How many franchises did you sell in your second year? if not applicable enter NA',\n",
    "    'How many franchises did you sell in your third year?if not applicable enter NA',\n",
    "    'What were your biggest challenges or obstacles to launching your franchise program?',\n",
    "    'What were your biggest challenges to selling franchises?',\n",
    "    'What have been your biggest challenges in supporting your franchisees select all that apply?2',\n",
    "    'What areas do you need help with? Select all that apply',\n",
    "    'Would you like to participate in an optional interview to share more insights?',\n",
    "    'Please share your email so that we may contact you for an optional interview Leave empty if you prefer to be anonymous',\n",
    "    'Business Name Leave empty if you prefer to be anonymous',\n",
    "    ]\n"
   ]
  },
  {
   "cell_type": "markdown",
   "id": "53034392",
   "metadata": {},
   "source": [
    "Filter based on columns"
   ]
  },
  {
   "cell_type": "code",
   "execution_count": null,
   "id": "8260212a",
   "metadata": {},
   "outputs": [],
   "source": [
    "filtered_form_df = form_df.filter(items=necessary_columns, axis=1)"
   ]
  },
  {
   "cell_type": "markdown",
   "id": "13faa22e",
   "metadata": {},
   "source": [
    "## Group clients in a separate dataframe"
   ]
  },
  {
   "cell_type": "code",
   "execution_count": null,
   "id": "6f07ae4b",
   "metadata": {},
   "outputs": [],
   "source": [
    "clients_df = filtered_form_df[filtered_form_df['Have you hired Big Sky Franchise Team?'] != 'Have not hired']"
   ]
  },
  {
   "cell_type": "markdown",
   "id": "bbb4422d",
   "metadata": {},
   "source": [
    "Select necessary excel columns for clients' responses. Use single quotes and seperate by comas."
   ]
  },
  {
   "cell_type": "code",
   "execution_count": null,
   "id": "ce613d13",
   "metadata": {},
   "outputs": [],
   "source": [
    "necessary_cl_columns = [\n",
    "    'How likely would you recommend Big Sky Franchise Team to a friend or colleague? 1 is not at all likely and 10 is extremelylikely',\n",
    "    'If you were to do it all over would you hire Big Sky again?',\n",
    "    'If no could you please tell why?',\n",
    "    'What year did you start franchising?',\n",
    "    'How many franchises did you sell in your second year? if not applicable enter NA2'\n",
    "    'How many franchises did you sell in your first year?if not applicable enter NA',\n",
    "    'How many franchises did you sell in your second year? if not applicable enter NA',\n",
    "    'How many franchises did you sell in your third year?if not applicable enter NA',\n",
    "    'What were your biggest challenges or obstacles to launching your franchise program?',\n",
    "    'What were your biggest challenges to selling franchises?',\n",
    "    'What have been your biggest challenges in supporting your franchisees select all that apply?2',\n",
    "    'Would you like to participate in an optional interview to share more insights?',\n",
    "    'Please share your email so that we may contact you for an optional interview Leave empty if you prefer to be anonymous',\n",
    "    'Business Name Leave empty if you prefer to be anonymous',\n",
    "    ]\n"
   ]
  },
  {
   "cell_type": "code",
   "execution_count": null,
   "id": "dbdc4a95",
   "metadata": {},
   "outputs": [],
   "source": [
    "clients_df = clients_df.filter(items=necessary_cl_columns, axis=1)"
   ]
  },
  {
   "cell_type": "markdown",
   "id": "6fa408d1",
   "metadata": {},
   "source": [
    "## Group nonclients in a separate dataframe"
   ]
  },
  {
   "cell_type": "code",
   "execution_count": null,
   "id": "87884b07",
   "metadata": {},
   "outputs": [],
   "source": [
    "nonclients_df = filtered_form_df[filtered_form_df['Have you hired Big Sky Franchise Team?'] == 'Have not hired']"
   ]
  },
  {
   "cell_type": "markdown",
   "id": "e8bbf718",
   "metadata": {},
   "source": [
    "Select necessary excel columns for nonclients' responses. Use single quotes and seperate by comas."
   ]
  },
  {
   "cell_type": "code",
   "execution_count": null,
   "id": "4110f382",
   "metadata": {},
   "outputs": [],
   "source": [
    "necessary_non_cl_columns = [\n",
    "    'What areas do you need help with? Select all that apply',\n",
    "    'Please share your email so that we may contact you for an optional interview Leave empty if you prefer to be anonymous',\n",
    "    'Business Name Leave empty if you prefer to be anonymous',\n",
    "    ]\n"
   ]
  },
  {
   "cell_type": "code",
   "execution_count": null,
   "id": "ce1d4555",
   "metadata": {},
   "outputs": [],
   "source": [
    "nonclients_df = nonclients_df.filter(items=necessary_non_cl_columns, axis=1)"
   ]
  },
  {
   "cell_type": "markdown",
   "id": "3e93e942",
   "metadata": {},
   "source": [
    "Save results (choose folder and output filename without '.xlsx' extension)"
   ]
  },
  {
   "cell_type": "code",
   "execution_count": null,
   "id": "3f719ce1",
   "metadata": {},
   "outputs": [],
   "source": [
    "target = FileChooser()\n",
    "display(target)"
   ]
  },
  {
   "cell_type": "code",
   "execution_count": null,
   "id": "291d5d18",
   "metadata": {},
   "outputs": [],
   "source": [
    "target_path = target.selected + '.xlsx'\n",
    "writer = pandas.ExcelWriter(target_path, engine='xlsxwriter')\n",
    "\n",
    "clients_df.to_excel(excel_writer=writer, sheet_name='Clients')\n",
    "nonclients_df.to_excel(excel_writer=writer, sheet_name='NonClients')\n",
    "\n",
    "writer.save()"
   ]
  },
  {
   "cell_type": "markdown",
   "id": "8d7d2905",
   "metadata": {},
   "source": [
    "Thats all!"
   ]
  }
 ],
 "metadata": {
  "kernelspec": {
   "display_name": "Python 3 (ipykernel)",
   "language": "python",
   "name": "python3"
  },
  "language_info": {
   "codemirror_mode": {
    "name": "ipython",
    "version": 3
   },
   "file_extension": ".py",
   "mimetype": "text/x-python",
   "name": "python",
   "nbconvert_exporter": "python",
   "pygments_lexer": "ipython3",
   "version": "3.8.7"
  }
 },
 "nbformat": 4,
 "nbformat_minor": 5
}
