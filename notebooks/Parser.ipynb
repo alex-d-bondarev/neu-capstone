{
 "cells": [
  {
   "cell_type": "markdown",
   "id": "09df3c41",
   "metadata": {},
   "source": [
    "Need to import libraries only once each time jupiter notebook is launched"
   ]
  },
  {
   "cell_type": "code",
   "execution_count": null,
   "id": "0238b9b3",
   "metadata": {},
   "outputs": [],
   "source": [
    "import re\n",
    "import pandas\n",
    "\n",
    "from ipyfilechooser import FileChooser\n",
    "from pathlib import Path\n",
    "from pandas import DataFrame"
   ]
  },
  {
   "cell_type": "markdown",
   "id": "07b71238",
   "metadata": {},
   "source": [
    "Choose raw excel file"
   ]
  },
  {
   "cell_type": "code",
   "execution_count": null,
   "id": "9921ec2c",
   "metadata": {},
   "outputs": [],
   "source": [
    "raw_data = FileChooser()\n",
    "display(raw_data)"
   ]
  },
  {
   "cell_type": "code",
   "execution_count": null,
   "id": "20891dc1",
   "metadata": {},
   "outputs": [],
   "source": [
    "# open excel file as pandas dataframe\n",
    "form_df = pandas.read_excel(io=raw_data.selected, \n",
    "                            sheet_name='Form1')\n",
    "\n",
    "# remove illegal characters from column names\n",
    "headers_list = form_df.columns.values.tolist()\n",
    "\n",
    "def remove_illegal_chars(text):\n",
    "    text = re.sub('[^A-Za-z0-9_\\ ?]+', '', text)\n",
    "    text.strip()\n",
    "    return text    \n",
    "    \n",
    "headers_list = list(map(remove_illegal_chars, headers_list))\n",
    "form_df.columns = headers_list\n",
    "\n",
    "print(f'All columns after cleanup:')\n",
    "print(*headers_list, sep = \"\\n\")\n"
   ]
  },
  {
   "cell_type": "markdown",
   "id": "76621731",
   "metadata": {},
   "source": [
    "Type necessary columns that you need for furter parsing. Use single quotes and seperate by comas."
   ]
  },
  {
   "cell_type": "code",
   "execution_count": null,
   "id": "bab285d7",
   "metadata": {},
   "outputs": [],
   "source": [
    "necessary_columns = [\n",
    "        'Are you a Big Sky Franchise Team client or were you in the past?',\n",
    "        'Did you complete the franchise process?',\n",
    "        'What do you think are Big Skys Franchise Team strengths?',\n",
    "        'What do you think are Big Skys Franchise Team weaknesses?',\n",
    "        'How would you rate your overall experience with Big Sky on a scale of 110 1 worst  10 best',\n",
    "    ]"
   ]
  },
  {
   "cell_type": "markdown",
   "id": "53034392",
   "metadata": {},
   "source": [
    "Filter based on columns"
   ]
  },
  {
   "cell_type": "code",
   "execution_count": null,
   "id": "8260212a",
   "metadata": {},
   "outputs": [],
   "source": [
    "filtered_form_df = form_df.filter(items=necessary_columns, axis=1)"
   ]
  },
  {
   "cell_type": "markdown",
   "id": "3e93e942",
   "metadata": {},
   "source": [
    "Save results (choose folder and output filename without '.xlsx' extension)"
   ]
  },
  {
   "cell_type": "code",
   "execution_count": null,
   "id": "3f719ce1",
   "metadata": {},
   "outputs": [],
   "source": [
    "target = FileChooser()\n",
    "display(target)"
   ]
  },
  {
   "cell_type": "code",
   "execution_count": null,
   "id": "291d5d18",
   "metadata": {},
   "outputs": [],
   "source": [
    "target_path = target.selected + '.xlsx'\n",
    "filtered_form_df.to_excel(excel_writer=target_path, sheet_name='Results')"
   ]
  }
 ],
 "metadata": {
  "kernelspec": {
   "display_name": "Python 3 (ipykernel)",
   "language": "python",
   "name": "python3"
  },
  "language_info": {
   "codemirror_mode": {
    "name": "ipython",
    "version": 3
   },
   "file_extension": ".py",
   "mimetype": "text/x-python",
   "name": "python",
   "nbconvert_exporter": "python",
   "pygments_lexer": "ipython3",
   "version": "3.8.7"
  }
 },
 "nbformat": 4,
 "nbformat_minor": 5
}
